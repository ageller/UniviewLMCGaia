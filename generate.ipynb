{
 "cells": [
  {
   "cell_type": "markdown",
   "metadata": {},
   "source": [
    "# Uniview module for LMC stars\n",
    "\n",
    "*Aaron Geller, 2018*\n",
    "\n",
    "### Imports and function definitions"
   ]
  },
  {
   "cell_type": "code",
   "execution_count": 19,
   "metadata": {},
   "outputs": [],
   "source": [
    "#This directory contains all the data needed for the module. It should be in the same directory as the notebook\n",
    "dataFolder = \"data\" \n",
    "import sys, os, shutil, errno, string, urllib\n",
    "\n",
    "\n",
    "sys.path.append(( os.path.abspath( os.path.join(os.path.realpath(\"__file__\"),  os.pardir, os.pardir) )))\n",
    "import uvmodlib.v1 as uvmod"
   ]
  },
  {
   "cell_type": "markdown",
   "metadata": {},
   "source": [
    "### USES Conf Template "
   ]
  },
  {
   "cell_type": "code",
   "execution_count": 54,
   "metadata": {},
   "outputs": [],
   "source": [
    "Template = \"\"\"mesh\n",
    "{  \n",
    "    data LMC    ./modules/$folderName/LMC.raw\n",
    "    dataHints LMC disablePostprocessing\n",
    "\n",
    "    cullRadius $cr\n",
    "    glslVersion 330\n",
    "    \n",
    "    propertyCollection \n",
    "    {        \n",
    "        __objectName__\n",
    "        {           \n",
    "\n",
    "            vec1f coronaRad 10  | public | desc \"size of stellar corona\" | widget slider | range 0 50\n",
    "            vec1f coronaFac 1.2  | public | desc \"weight of noise\" | widget slider | range 0 2\n",
    "            vec1f Alpha 1.  | public | desc \"overall alpha\" | widget slider | range 0 1\n",
    "        \n",
    "            \n",
    "        }\n",
    "    }\n",
    "    \n",
    "    ############# stellar corona for LMC stars   \n",
    "    pass\n",
    "    {\n",
    "        useDataObject LMC\n",
    "        shader\n",
    "        {\n",
    "            type defaultMeshShader\n",
    "            {\n",
    "                geometryShader   ./modules/$folderName/corona.gs\n",
    "                vertexShader ./modules/$folderName/corona.vs\n",
    "                fragmentShader   ./modules/$folderName/corona.fs\n",
    "                texture bb ./modules/$folderName/bb.png\n",
    "                {             \n",
    "                    wrapModeS GL_CLAMP_TO_EDGE\n",
    "                    wrapModeR GL_CLAMP_TO_EDGE\n",
    "                    colorspace linear\n",
    "                }\n",
    "                \n",
    "                stateManagerVar __objectName__.coronaRad  coronaRad\n",
    "                stateManagerVar __objectName__.coronaFac  coronaFac\n",
    "                stateManagerVar __objectName__.Alpha  Alpha\n",
    "\n",
    "                glState\n",
    "                {\n",
    "                    UV_CULL_FACE_ENABLE false\n",
    "                    UV_BLEND_ENABLE true\n",
    "                    UV_DEPTH_ENABLE false\n",
    "                    UV_WRITE_MASK_DEPTH true\n",
    "                    UV_BLEND_FUNC GL_SRC_ALPHA GL_ONE_MINUS_SRC_ALPHA\n",
    "                }\n",
    "            }\n",
    "\n",
    "        }    \n",
    "    }\n",
    "\n",
    "\n",
    "}\"\"\""
   ]
  },
  {
   "cell_type": "markdown",
   "metadata": {},
   "source": [
    "### LMC class"
   ]
  },
  {
   "cell_type": "code",
   "execution_count": 55,
   "metadata": {},
   "outputs": [],
   "source": [
    "class LMC():\n",
    "    def __init__(self, object):\n",
    "        self.object = object\n",
    "        uvmod.Utility.ensurerelativepathexsists(\"corona.gs\",dataFolder)\n",
    "        uvmod.Utility.ensurerelativepathexsists(\"corona.vs\",dataFolder)\n",
    "        uvmod.Utility.ensurerelativepathexsists(\"corona.fs\",dataFolder)\n",
    "        self.cr = 1000\n",
    "        self.Scale = 1\n",
    "\n",
    "    def generatemod(self):\n",
    "        self.object.setgeometry(self.object.name+\"Mesh.usesconf\")\n",
    "        return self.object.generatemod()\n",
    "    def generatefiles(self, absOutDir, relOutDir):\n",
    "        fileName = self.object.name+\"Mesh.usesconf\"\n",
    "        s = string.Template(Template)\n",
    "        f = open(absOutDir+\"\\\\\"+fileName, 'w')\n",
    "        if f:\n",
    "            f.write(s.substitute(folderName = relOutDir,\n",
    "                                 cr = self.cr,\n",
    "                                 Scale = self.Scale\n",
    "                                 ))\n",
    "            f.close()\n",
    "        uvmod.Utility.copyfoldercontents(os.getcwd()+\"\\\\\"+dataFolder, absOutDir)"
   ]
  },
  {
   "cell_type": "markdown",
   "metadata": {},
   "source": [
    "### Object Instantiation"
   ]
  },
  {
   "cell_type": "code",
   "execution_count": 56,
   "metadata": {},
   "outputs": [],
   "source": [
    "model = LMC(uvmod.OrbitalObject())\n",
    "scene = uvmod.Scene()\n",
    "parentScene = uvmod.Scene()\n",
    "modinfo = uvmod.ModuleInformation()\n",
    "generator = uvmod.Generator()"
   ]
  },
  {
   "cell_type": "markdown",
   "metadata": {},
   "source": [
    "### Specify Settings and generate the module"
   ]
  },
  {
   "cell_type": "code",
   "execution_count": 57,
   "metadata": {},
   "outputs": [],
   "source": [
    "scene.setname(\"LMCGaia\")\n",
    "scene.setparent(\"MilkyWay\")\n",
    "scene.setunit(3.0856775814671916e+16) #what should I use for the units here? My data are in parsecs\n",
    "scene.setentrydist(100000.)\n",
    "scene.setstaticposition(1943.83535919, 18089.69093062, -48072.2850105)\n",
    "\n",
    "model.object.setcameraradius(0.01)\n",
    "model.object.setcoord(scene.name)\n",
    "model.object.setname(\"LMCGaia\")\n",
    "model.object.setguiname(\"/KavliLecture/Larson/LMCGaia\")\n",
    "model.object.settargetradius(10)\n",
    "model.object.showatstartup(False)\n",
    "model.cr = 100000\n",
    "\n",
    "modinfo.setname(\"LMCGaia\")\n",
    "modinfo.setauthor(\"Aaron Geller<sup>1</sup> and Shane Larson<sup>2</sup><br />(1)Adler Planetarium,<br />(2)Northwestern University\")\n",
    "modinfo.cleardependencies()\n",
    "modinfo.setdesc(\"Uniview module for LMC based on Gaia data\")\n",
    "#modinfo.setthumbnail(\"data/R0010133.JPG\")\n",
    "modinfo.setversion(\"1.0\")\n",
    "\n",
    "generator.generate(\"LMCGaia\",[scene],[model],modinfo)\n",
    "uvmod.Utility.senduvcommand(model.object.name+\".reload\")"
   ]
  },
  {
   "cell_type": "markdown",
   "metadata": {},
   "source": [
    "## Helper Functions for modifing code\n",
    "*Reload Module and Shaders in Uniview*"
   ]
  },
  {
   "cell_type": "code",
   "execution_count": 49,
   "metadata": {
    "scrolled": true
   },
   "outputs": [],
   "source": [
    "uvmod.Utility.senduvcommand(model.object.name+\".reload\")"
   ]
  },
  {
   "cell_type": "markdown",
   "metadata": {},
   "source": [
    "*Copy modified Shader files and reload*"
   ]
  },
  {
   "cell_type": "code",
   "execution_count": 9,
   "metadata": {},
   "outputs": [],
   "source": [
    "from config import Settings"
   ]
  },
  {
   "cell_type": "code",
   "execution_count": 99,
   "metadata": {},
   "outputs": [],
   "source": [
    "uvmod.Utility.copyfoldercontents(os.getcwd()+\"\\\\\"+dataFolder, Settings.uvcustommodulelocation+'\\\\'+model.object.name)\n",
    "uvmod.Utility.senduvcommand(model.object.name+\".reload\")"
   ]
  },
  {
   "cell_type": "markdown",
   "metadata": {},
   "source": [
    "## SN1987a position \n",
    "\n",
    "*From the [wikipedia page](https://en.wikipedia.org/wiki/SN_1987A)*"
   ]
  },
  {
   "cell_type": "code",
   "execution_count": 17,
   "metadata": {},
   "outputs": [],
   "source": [
    "from astropy.coordinates import SkyCoord\n",
    "from astropy import units"
   ]
  },
  {
   "cell_type": "code",
   "execution_count": 26,
   "metadata": {},
   "outputs": [
    {
     "name": "stdout",
     "output_type": "stream",
     "text": [
      "(1943.83535919, 18089.69093062, -48072.2850105) pc\n",
      "3.0856775814671916e+16 m\n"
     ]
    }
   ],
   "source": [
    "RA = \"05h 35m 28.03s\" #right ascension\n",
    "Dec= \"−69d 16m 11.79s\" #declination\n",
    "dist = (51.4 *units.kpc).to(units.pc) #distance\n",
    "\n",
    "coord = SkyCoord(RA, Dec, dist)\n",
    "\n",
    "print(coord.cartesian)\n",
    "\n",
    "print((1.*units.pc).to(units.m))"
   ]
  },
  {
   "cell_type": "markdown",
   "metadata": {},
   "source": [
    "## Center of LMC  \n",
    "\n",
    "*From the [wikipedia page](https://en.wikipedia.org/wiki/Large_Magellanic_Cloud)*"
   ]
  },
  {
   "cell_type": "code",
   "execution_count": 2,
   "metadata": {},
   "outputs": [],
   "source": [
    "from astropy.coordinates import SkyCoord\n",
    "from astropy import units"
   ]
  },
  {
   "cell_type": "code",
   "execution_count": 3,
   "metadata": {},
   "outputs": [
    {
     "name": "stdout",
     "output_type": "stream",
     "text": [
      "(2738.1323679, 17082.79901096, -46911.41235443) pc\n"
     ]
    }
   ],
   "source": [
    "RA = \"05h 23m 34.5s\" #right ascension\n",
    "Dec= \"−69d 45m 22s\" #declination\n",
    "dist = (50 *units.kpc).to(units.pc) #distance\n",
    "\n",
    "coord = SkyCoord(RA, Dec, dist)\n",
    "\n",
    "print(coord.cartesian)"
   ]
  },
  {
   "cell_type": "code",
   "execution_count": null,
   "metadata": {},
   "outputs": [],
   "source": []
  }
 ],
 "metadata": {
  "anaconda-cloud": {},
  "kernelspec": {
   "display_name": "Python 3",
   "language": "python",
   "name": "python3"
  },
  "language_info": {
   "codemirror_mode": {
    "name": "ipython",
    "version": 3
   },
   "file_extension": ".py",
   "mimetype": "text/x-python",
   "name": "python",
   "nbconvert_exporter": "python",
   "pygments_lexer": "ipython3",
   "version": "3.7.3"
  }
 },
 "nbformat": 4,
 "nbformat_minor": 1
}
